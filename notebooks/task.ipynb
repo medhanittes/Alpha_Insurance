{
 "cells": [
  {
   "cell_type": "code",
   "execution_count": 1,
   "metadata": {},
   "outputs": [],
   "source": [
    "import pandas as pd\n",
    "import os"
   ]
  },
  {
   "cell_type": "code",
   "execution_count": 2,
   "metadata": {},
   "outputs": [
    {
     "name": "stdout",
     "output_type": "stream",
     "text": [
      "['MachineLearningRating_v3.csv', 'MachineLearningRating_v3.txt']\n"
     ]
    },
    {
     "name": "stderr",
     "output_type": "stream",
     "text": [
      "C:\\Users\\medha\\AppData\\Local\\Temp\\ipykernel_17640\\467395062.py:9: DtypeWarning: Columns (32,37) have mixed types. Specify dtype option on import or set low_memory=False.\n",
      "  data = pd.read_csv(input_file_path, delimiter='|')\n"
     ]
    },
    {
     "name": "stdout",
     "output_type": "stream",
     "text": [
      "Converted D:\\WeekThree\\data\\MachineLearningRating_v3.txt to D:\\WeekThree\\data\\MachineLearningRating_v3.csv\n"
     ]
    }
   ],
   "source": [
    "# List files in the data directory\n",
    "print(os.listdir(r'D:\\WeekThree\\data'))\n",
    "\n",
    "# Specify the input and output file paths\n",
    "input_file_path = r'D:\\WeekThree\\data\\MachineLearningRating_v3.txt'\n",
    "output_file_path = r'D:\\WeekThree\\data\\MachineLearningRating_v3.csv'\n",
    "\n",
    "# Read the .txt file\n",
    "data = pd.read_csv(input_file_path, delimiter='|')  \n",
    "\n",
    "# Save the data to a .csv file\n",
    "data.to_csv(output_file_path, index=False)\n",
    "\n",
    "print(f\"Converted {input_file_path} to {output_file_path}\")"
   ]
  }
 ],
 "metadata": {
  "kernelspec": {
   "display_name": "myvenv",
   "language": "python",
   "name": "python3"
  },
  "language_info": {
   "codemirror_mode": {
    "name": "ipython",
    "version": 3
   },
   "file_extension": ".py",
   "mimetype": "text/x-python",
   "name": "python",
   "nbconvert_exporter": "python",
   "pygments_lexer": "ipython3",
   "version": "3.12.5"
  }
 },
 "nbformat": 4,
 "nbformat_minor": 2
}
