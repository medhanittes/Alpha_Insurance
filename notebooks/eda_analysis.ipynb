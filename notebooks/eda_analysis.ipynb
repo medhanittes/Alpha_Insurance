{
 "cells": [
  {
   "cell_type": "code",
   "execution_count": 6,
   "metadata": {},
   "outputs": [],
   "source": [
    "import pandas as pd\n",
    "import matplotlib.pyplot as plt\n",
    "import seaborn as sns"
   ]
  },
  {
   "cell_type": "code",
   "execution_count": 7,
   "metadata": {},
   "outputs": [
    {
     "name": "stderr",
     "output_type": "stream",
     "text": [
      "C:\\Users\\medha\\AppData\\Local\\Temp\\ipykernel_8420\\2292358973.py:3: DtypeWarning: Columns (32,37) have mixed types. Specify dtype option on import or set low_memory=False.\n",
      "  data = pd.read_csv(file_path)\n"
     ]
    },
    {
     "name": "stdout",
     "output_type": "stream",
     "text": [
      "Index(['UnderwrittenCoverID', 'PolicyID', 'TransactionMonth',\n",
      "       'IsVATRegistered', 'Citizenship', 'LegalType', 'Title', 'Language',\n",
      "       'Bank', 'AccountType', 'MaritalStatus', 'Gender', 'Country', 'Province',\n",
      "       'PostalCode', 'MainCrestaZone', 'SubCrestaZone', 'ItemType', 'mmcode',\n",
      "       'VehicleType', 'RegistrationYear', 'make', 'Model', 'Cylinders',\n",
      "       'cubiccapacity', 'kilowatts', 'bodytype', 'NumberOfDoors',\n",
      "       'VehicleIntroDate', 'CustomValueEstimate', 'AlarmImmobiliser',\n",
      "       'TrackingDevice', 'CapitalOutstanding', 'NewVehicle', 'WrittenOff',\n",
      "       'Rebuilt', 'Converted', 'CrossBorder', 'NumberOfVehiclesInFleet',\n",
      "       'SumInsured', 'TermFrequency', 'CalculatedPremiumPerTerm',\n",
      "       'ExcessSelected', 'CoverCategory', 'CoverType', 'CoverGroup', 'Section',\n",
      "       'Product', 'StatutoryClass', 'StatutoryRiskType', 'TotalPremium',\n",
      "       'TotalClaims'],\n",
      "      dtype='object')\n",
      "       UnderwrittenCoverID      PolicyID    PostalCode        mmcode  \\\n",
      "count         1.000098e+06  1.000098e+06  1.000098e+06  9.995460e+05   \n",
      "mean          1.048175e+05  7.956682e+03  3.020601e+03  5.487770e+07   \n",
      "std           6.329371e+04  5.290039e+03  2.649854e+03  1.360381e+07   \n",
      "min           1.000000e+00  1.400000e+01  1.000000e+00  4.041200e+06   \n",
      "25%           5.514300e+04  4.500000e+03  8.270000e+02  6.005692e+07   \n",
      "50%           9.408300e+04  7.071000e+03  2.000000e+03  6.005842e+07   \n",
      "75%           1.391900e+05  1.107700e+04  4.180000e+03  6.005842e+07   \n",
      "max           3.011750e+05  2.324600e+04  9.870000e+03  6.506535e+07   \n",
      "\n",
      "       RegistrationYear      Cylinders  cubiccapacity      kilowatts  \\\n",
      "count      1.000098e+06  999546.000000  999546.000000  999546.000000   \n",
      "mean       2.010225e+03       4.046642    2466.743258      97.207919   \n",
      "std        3.261391e+00       0.294020     442.800640      19.393256   \n",
      "min        1.987000e+03       0.000000       0.000000       0.000000   \n",
      "25%        2.008000e+03       4.000000    2237.000000      75.000000   \n",
      "50%        2.011000e+03       4.000000    2694.000000     111.000000   \n",
      "75%        2.013000e+03       4.000000    2694.000000     111.000000   \n",
      "max        2.015000e+03      10.000000   12880.000000     309.000000   \n",
      "\n",
      "       NumberOfDoors  CustomValueEstimate  NumberOfVehiclesInFleet  \\\n",
      "count  999546.000000         2.204560e+05                      0.0   \n",
      "mean        4.019250         2.255311e+05                      NaN   \n",
      "std         0.468314         5.645157e+05                      NaN   \n",
      "min         0.000000         2.000000e+04                      NaN   \n",
      "25%         4.000000         1.350000e+05                      NaN   \n",
      "50%         4.000000         2.200000e+05                      NaN   \n",
      "75%         4.000000         2.800000e+05                      NaN   \n",
      "max         6.000000         2.655000e+07                      NaN   \n",
      "\n",
      "         SumInsured  CalculatedPremiumPerTerm  TotalPremium   TotalClaims  \n",
      "count  1.000098e+06              1.000098e+06  1.000098e+06  1.000098e+06  \n",
      "mean   6.041727e+05              1.178757e+02  6.190550e+01  6.486119e+01  \n",
      "std    1.508332e+06              3.997017e+02  2.302845e+02  2.384075e+03  \n",
      "min    1.000000e-02              0.000000e+00 -7.825768e+02 -1.200241e+04  \n",
      "25%    5.000000e+03              3.224800e+00  0.000000e+00  0.000000e+00  \n",
      "50%    7.500000e+03              8.436900e+00  2.178333e+00  0.000000e+00  \n",
      "75%    2.500000e+05              9.000000e+01  2.192982e+01  0.000000e+00  \n",
      "max    1.263620e+07              7.442217e+04  6.528260e+04  3.930921e+05  \n"
     ]
    }
   ],
   "source": [
    "# Load the CSV file\n",
    "file_path = 'D:\\\\WeekThree\\\\data\\\\MachineLearningRating_v3.csv'\n",
    "data = pd.read_csv(file_path)\n",
    "\n",
    "# Print the columns of the DataFrame\n",
    "print(data.columns)\n",
    "\n",
    "# Calculate descriptive statistics\n",
    "descriptive_stats = data.describe()\n",
    "print(descriptive_stats)\n",
    "\n",
    "# Variability for specific columns\n",
    "#variability = data[['TotalPremium', 'TotalClaims']].var()\n",
    "#print(variability)"
   ]
  }
 ],
 "metadata": {
  "kernelspec": {
   "display_name": "myvenv",
   "language": "python",
   "name": "python3"
  },
  "language_info": {
   "codemirror_mode": {
    "name": "ipython",
    "version": 3
   },
   "file_extension": ".py",
   "mimetype": "text/x-python",
   "name": "python",
   "nbconvert_exporter": "python",
   "pygments_lexer": "ipython3",
   "version": "3.12.5"
  }
 },
 "nbformat": 4,
 "nbformat_minor": 2
}
